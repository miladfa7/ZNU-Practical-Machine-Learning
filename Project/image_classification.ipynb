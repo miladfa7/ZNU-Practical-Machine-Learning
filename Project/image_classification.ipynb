{
  "nbformat": 4,
  "nbformat_minor": 0,
  "metadata": {
    "colab": {
      "name": "image classification.ipynb",
      "provenance": [],
      "collapsed_sections": []
    },
    "kernelspec": {
      "name": "python3",
      "display_name": "Python 3"
    }
  },
  "cells": [
    {
      "cell_type": "code",
      "metadata": {
        "colab": {
          "base_uri": "https://localhost:8080/"
        },
        "id": "NxlXB88PMXmI",
        "outputId": "ef93eb4c-864b-4a7c-8a9c-6472dfb35d22"
      },
      "source": [
        "%cd /content/drive/MyDrive/ML Project/"
      ],
      "execution_count": null,
      "outputs": [
        {
          "output_type": "stream",
          "text": [
            "/content/drive/MyDrive/ML Project\n"
          ],
          "name": "stdout"
        }
      ]
    },
    {
      "cell_type": "code",
      "metadata": {
        "id": "Ratw5bQrPhGX"
      },
      "source": [
        "dataset_dir = \"./Pneumonia\""
      ],
      "execution_count": null,
      "outputs": []
    },
    {
      "cell_type": "markdown",
      "metadata": {
        "id": "LdjlViWjzKl7"
      },
      "source": [
        "https://keras.io/api/preprocessing/image/"
      ]
    },
    {
      "cell_type": "code",
      "metadata": {
        "colab": {
          "base_uri": "https://localhost:8080/"
        },
        "id": "TNISOnxAPmyO",
        "outputId": "a3330ddd-c38a-40f8-a942-c6ddf5deb0af"
      },
      "source": [
        "from tensorflow.keras.preprocessing.image import ImageDataGenerator\r\n",
        "\r\n",
        "train_datagen = ImageDataGenerator(rescale = 1./255,\r\n",
        "                                   zoom_range = 0.2, \r\n",
        "                                   vertical_flip = True)\r\n",
        "\r\n",
        "training_set = train_datagen.flow_from_directory(directory = dataset_dir + '/train',\r\n",
        "                                                 batch_size = 8,\r\n",
        "                                                 target_size = (150, 150),\r\n",
        "                                                 class_mode = 'binary')"
      ],
      "execution_count": null,
      "outputs": [
        {
          "output_type": "stream",
          "text": [
            "Found 5216 images belonging to 2 classes.\n"
          ],
          "name": "stdout"
        }
      ]
    },
    {
      "cell_type": "markdown",
      "metadata": {
        "id": "6uw58WZHzuRi"
      },
      "source": [
        "https://keras.io/getting_started/"
      ]
    },
    {
      "cell_type": "code",
      "metadata": {
        "id": "3tOE8nGbVqkE"
      },
      "source": [
        "model.fit_generator()        "
      ],
      "execution_count": null,
      "outputs": []
    }
  ]
}