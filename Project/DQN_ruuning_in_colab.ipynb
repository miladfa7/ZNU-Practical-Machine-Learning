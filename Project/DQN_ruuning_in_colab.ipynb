{
  "nbformat": 4,
  "nbformat_minor": 0,
  "metadata": {
    "colab": {
      "name": "DQN ruuning in colab.ipynb",
      "provenance": [],
      "collapsed_sections": []
    },
    "kernelspec": {
      "name": "python3",
      "display_name": "Python 3"
    }
  },
  "cells": [
    {
      "cell_type": "code",
      "metadata": {
        "colab": {
          "base_uri": "https://localhost:8080/"
        },
        "id": "k11s0ZD4ini1",
        "outputId": "a91a4b27-ec1d-4cd3-ebac-1c567ccaf47c"
      },
      "source": [
        "!apt-get install -y xvfb # Install X Virtual Frame Buffer\r\n",
        "import os\r\n",
        "os.system('Xvfb :1 -screen 0 1600x1200x16  &')    # create virtual display with size 1600x1200 and 16 bit color. Color can be changed to 24 or 8\r\n",
        "os.environ['DISPLAY']=':1.0'    # tell X clients to use our virtual DISPLAY :1.0\r\n"
      ],
      "execution_count": null,
      "outputs": [
        {
          "output_type": "stream",
          "text": [
            "Reading package lists... Done\n",
            "Building dependency tree       \n",
            "Reading state information... Done\n",
            "The following NEW packages will be installed:\n",
            "  xvfb\n",
            "0 upgraded, 1 newly installed, 0 to remove and 16 not upgraded.\n",
            "Need to get 784 kB of archives.\n",
            "After this operation, 2,270 kB of additional disk space will be used.\n",
            "Get:1 http://archive.ubuntu.com/ubuntu bionic-updates/universe amd64 xvfb amd64 2:1.19.6-1ubuntu4.8 [784 kB]\n",
            "Fetched 784 kB in 1s (1,093 kB/s)\n",
            "Selecting previously unselected package xvfb.\n",
            "(Reading database ... 145483 files and directories currently installed.)\n",
            "Preparing to unpack .../xvfb_2%3a1.19.6-1ubuntu4.8_amd64.deb ...\n",
            "Unpacking xvfb (2:1.19.6-1ubuntu4.8) ...\n",
            "Setting up xvfb (2:1.19.6-1ubuntu4.8) ...\n",
            "Processing triggers for man-db (2.8.3-2ubuntu0.1) ...\n"
          ],
          "name": "stdout"
        }
      ]
    },
    {
      "cell_type": "code",
      "metadata": {
        "colab": {
          "base_uri": "https://localhost:8080/"
        },
        "id": "GX2OXGsBiC66",
        "outputId": "c671d3d2-4435-4b03-f31d-e1d646b63b92"
      },
      "source": [
        "!python3 DQN.py"
      ],
      "execution_count": null,
      "outputs": [
        {
          "output_type": "stream",
          "text": [
            "2021-01-17 18:15:34.485072: I tensorflow/stream_executor/platform/default/dso_loader.cc:49] Successfully opened dynamic library libcudart.so.10.1\n",
            "2021-01-17 18:15:37.031695: I tensorflow/compiler/jit/xla_cpu_device.cc:41] Not creating XLA devices, tf_xla_enable_xla_devices not set\n",
            "2021-01-17 18:15:37.032796: I tensorflow/stream_executor/platform/default/dso_loader.cc:49] Successfully opened dynamic library libcuda.so.1\n",
            "2021-01-17 18:15:37.043045: E tensorflow/stream_executor/cuda/cuda_driver.cc:328] failed call to cuInit: CUDA_ERROR_NO_DEVICE: no CUDA-capable device is detected\n",
            "2021-01-17 18:15:37.043126: I tensorflow/stream_executor/cuda/cuda_diagnostics.cc:156] kernel driver does not appear to be running on this host (287560942e1c): /proc/driver/nvidia/version does not exist\n",
            "2021-01-17 18:15:37.043762: I tensorflow/compiler/jit/xla_gpu_device.cc:99] Not creating XLA devices, tf_xla_enable_xla_devices not set\n",
            "Model: \"sequential\"\n",
            "_________________________________________________________________\n",
            "Layer (type)                 Output Shape              Param #   \n",
            "=================================================================\n",
            "conv2d (Conv2D)              (None, 15, 15, 16)        80        \n",
            "_________________________________________________________________\n",
            "conv2d_1 (Conv2D)            (None, 15, 15, 32)        2080      \n",
            "_________________________________________________________________\n",
            "conv2d_2 (Conv2D)            (None, 15, 15, 64)        8256      \n",
            "_________________________________________________________________\n",
            "reshape (Reshape)            (None, 1, 14400)          0         \n",
            "_________________________________________________________________\n",
            "dense (Dense)                (None, 1, 512)            7373312   \n",
            "_________________________________________________________________\n",
            "dense_1 (Dense)              (None, 1, 4)              2052      \n",
            "=================================================================\n",
            "Total params: 7,385,780\n",
            "Trainable params: 7,385,780\n",
            "Non-trainable params: 0\n",
            "_________________________________________________________________\n",
            "Model: \"sequential_1\"\n",
            "_________________________________________________________________\n",
            "Layer (type)                 Output Shape              Param #   \n",
            "=================================================================\n",
            "conv2d_3 (Conv2D)            (None, 15, 15, 16)        80        \n",
            "_________________________________________________________________\n",
            "conv2d_4 (Conv2D)            (None, 15, 15, 32)        2080      \n",
            "_________________________________________________________________\n",
            "conv2d_5 (Conv2D)            (None, 15, 15, 64)        8256      \n",
            "_________________________________________________________________\n",
            "reshape_1 (Reshape)          (None, 1, 14400)          0         \n",
            "_________________________________________________________________\n",
            "dense_2 (Dense)              (None, 1, 512)            7373312   \n",
            "_________________________________________________________________\n",
            "dense_3 (Dense)              (None, 1, 4)              2052      \n",
            "=================================================================\n",
            "Total params: 7,385,780\n",
            "Trainable params: 7,385,780\n",
            "Non-trainable params: 0\n",
            "_________________________________________________________________\n",
            "episode:   0   score:   -330.0    epsilon 0.992\n",
            "2021-01-17 18:15:38.306036: I tensorflow/compiler/mlir/mlir_graph_optimization_pass.cc:116] None of the MLIR optimization passes are enabled (registered 2)\n",
            "2021-01-17 18:15:38.320082: I tensorflow/core/platform/profile_utils/cpu_utils.cc:112] CPU Frequency: 2299995000 Hz\n",
            "episode:   1   score:   -110.0    epsilon 0.991\n",
            "episode:   2   score:    100.0    epsilon 0.989\n",
            "episode:   3   score:   -350.0    epsilon 0.979\n",
            "episode:   4   score:   -820.0    epsilon 0.96\n",
            "episode:   5   score:   -100.0    epsilon 0.96\n",
            "episode:   6   score:   -500.0    epsilon 0.946\n",
            "episode:   7   score:   -250.0    epsilon 0.943\n",
            "episode:   8   score:   -130.0    epsilon 0.939\n",
            "episode:   9   score:   -250.0    epsilon 0.929\n",
            "episode:  10   score:     20.0    epsilon 0.921\n",
            "Traceback (most recent call last):\n",
            "  File \"DQN.py\", line 160, in <module>\n",
            "    agent.train_replay()\n",
            "  File \"DQN.py\", line 100, in train_replay\n",
            "    target_next = self.model.predict(update_target)\n",
            "  File \"/usr/local/lib/python3.6/dist-packages/tensorflow/python/keras/engine/training.py\", line 1608, in predict\n",
            "    steps_per_execution=self._steps_per_execution)\n",
            "  File \"/usr/local/lib/python3.6/dist-packages/tensorflow/python/keras/engine/data_adapter.py\", line 1112, in __init__\n",
            "    model=model)\n",
            "  File \"/usr/local/lib/python3.6/dist-packages/tensorflow/python/keras/engine/data_adapter.py\", line 353, in __init__\n",
            "    indices_dataset = indices_dataset.flat_map(slice_batch_indices)\n",
            "  File \"/usr/local/lib/python3.6/dist-packages/tensorflow/python/data/ops/dataset_ops.py\", line 1837, in flat_map\n",
            "    return FlatMapDataset(self, map_func)\n",
            "  File \"/usr/local/lib/python3.6/dist-packages/tensorflow/python/data/ops/dataset_ops.py\", line 4285, in __init__\n",
            "    map_func, self._transformation_name(), dataset=input_dataset)\n",
            "  File \"/usr/local/lib/python3.6/dist-packages/tensorflow/python/data/ops/dataset_ops.py\", line 3525, in __init__\n",
            "    self._function = wrapper_fn.get_concrete_function()\n",
            "  File \"/usr/local/lib/python3.6/dist-packages/tensorflow/python/eager/function.py\", line 3052, in get_concrete_function\n",
            "    *args, **kwargs)\n",
            "  File \"/usr/local/lib/python3.6/dist-packages/tensorflow/python/eager/function.py\", line 3019, in _get_concrete_function_garbage_collected\n",
            "    graph_function, _ = self._maybe_define_function(args, kwargs)\n",
            "  File \"/usr/local/lib/python3.6/dist-packages/tensorflow/python/eager/function.py\", line 3361, in _maybe_define_function\n",
            "    graph_function = self._create_graph_function(args, kwargs)\n",
            "  File \"/usr/local/lib/python3.6/dist-packages/tensorflow/python/eager/function.py\", line 3206, in _create_graph_function\n",
            "    capture_by_value=self._capture_by_value),\n",
            "  File \"/usr/local/lib/python3.6/dist-packages/tensorflow/python/framework/func_graph.py\", line 990, in func_graph_from_py_func\n",
            "    func_outputs = python_func(*func_args, **func_kwargs)\n",
            "  File \"/usr/local/lib/python3.6/dist-packages/tensorflow/python/data/ops/dataset_ops.py\", line 3518, in wrapper_fn\n",
            "    ret = _wrapper_helper(*args)\n",
            "  File \"/usr/local/lib/python3.6/dist-packages/tensorflow/python/data/ops/dataset_ops.py\", line 3453, in _wrapper_helper\n",
            "    ret = autograph.tf_convert(func, ag_ctx)(*nested_args)\n",
            "  File \"/usr/local/lib/python3.6/dist-packages/tensorflow/python/autograph/impl/api.py\", line 667, in wrapper\n",
            "    return converted_call(f, args, kwargs, options=options)\n",
            "  File \"/usr/local/lib/python3.6/dist-packages/tensorflow/python/autograph/impl/api.py\", line 396, in converted_call\n",
            "    return _call_unconverted(f, args, kwargs, options)\n",
            "  File \"/usr/local/lib/python3.6/dist-packages/tensorflow/python/autograph/impl/api.py\", line 478, in _call_unconverted\n",
            "    return f(*args, **kwargs)\n",
            "  File \"/usr/local/lib/python3.6/dist-packages/tensorflow/python/keras/engine/data_adapter.py\", line 342, in slice_batch_indices\n",
            "    flat_dataset = dataset_ops.DatasetV2.from_tensor_slices(first_k_indices)\n",
            "  File \"/usr/local/lib/python3.6/dist-packages/tensorflow/python/data/ops/dataset_ops.py\", line 691, in from_tensor_slices\n",
            "    return TensorSliceDataset(tensors)\n",
            "  File \"/usr/local/lib/python3.6/dist-packages/tensorflow/python/data/ops/dataset_ops.py\", line 3169, in __init__\n",
            "    output_shapes=structure.get_flat_tensor_shapes(self._structure))\n",
            "  File \"/usr/local/lib/python3.6/dist-packages/tensorflow/python/ops/gen_dataset_ops.py\", line 6776, in tensor_slice_dataset\n",
            "    output_shapes=output_shapes, name=name)\n",
            "  File \"/usr/local/lib/python3.6/dist-packages/tensorflow/python/framework/op_def_library.py\", line 689, in _apply_op_helper\n",
            "    for attr_def in op_def.attr:\n",
            "KeyboardInterrupt\n"
          ],
          "name": "stdout"
        }
      ]
    },
    {
      "cell_type": "code",
      "metadata": {
        "id": "yzSua7vjiUsO"
      },
      "source": [
        ""
      ],
      "execution_count": null,
      "outputs": []
    }
  ]
}